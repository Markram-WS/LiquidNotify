{
 "cells": [
  {
   "cell_type": "code",
   "execution_count": 12,
   "metadata": {
    "colab": {},
    "colab_type": "code",
    "executionInfo": {
     "elapsed": 1439,
     "status": "ok",
     "timestamp": 1594088253302,
     "user": {
      "displayName": "Wasan Sinlapa",
      "photoUrl": "https://lh3.googleusercontent.com/a-/AOh14Gg-hKJqmhSwYd2QrhxmF4r2d-Za0Q6LykHlD4Nz=s64",
      "userId": "09763270650633251769"
     },
     "user_tz": -420
    },
    "id": "v-u0-N_k4J_w"
   },
   "outputs": [],
   "source": [
    "import requests\n",
    "import hashlib\n",
    "import json\n",
    "import hmac\n",
    "import requests\n",
    "import numpy as np\n",
    "from datetime import datetime\n",
    "import time\n",
    "\n"
   ]
  },
  {
   "cell_type": "code",
   "execution_count": 13,
   "metadata": {
    "colab": {},
    "colab_type": "code",
    "executionInfo": {
     "elapsed": 1215,
     "status": "ok",
     "timestamp": 1594088253303,
     "user": {
      "displayName": "Wasan Sinlapa",
      "photoUrl": "https://lh3.googleusercontent.com/a-/AOh14Gg-hKJqmhSwYd2QrhxmF4r2d-Za0Q6LykHlD4Nz=s64",
      "userId": "09763270650633251769"
     },
     "user_tz": -420
    },
    "id": "tG-L4_DQ4J_1"
   },
   "outputs": [],
   "source": [
    "#Msg Line\n",
    "def lineSendMas(msg_line):\n",
    "    url_line = 'https://notify-api.line.me/api/notify'\n",
    "    token_line = 'xxxxxxxxxxxxxxxxxxxxxxxxxxxxxxxxxxxxxxxxxxxxxxxxxxxx'\n",
    "    headers_line = {'content-type':'application/x-www-form-urlencoded','Authorization':'Bearer '+token_line}\n",
    "    reg_line = requests.post(url_line, headers=headers_line , data = {'message':msg_line})\n",
    "    #print(reg_line.text)\n",
    "    \n",
    "# API Liquid info\n",
    "host = 'https://api.liquid.com'\n",
    "tokenId = '1448568'\n",
    "tokenSecret = b'xxxxxxxxxxxxxxxxxxxxxxxxxxxxxxxxxxxxxxxxxxxxxxxxxxxxx'\n",
    "\n",
    "header = {\n",
    "    'Accept': 'application/json',\n",
    "    'Content-Type': 'application/json',\n",
    "    'X-BTK-APIKEY': tokenSecret,\n",
    "}\n",
    "\n",
    "\n",
    "#API sub function\n",
    "def json_encode(data):\n",
    "    return json.dumps(data, separators=(',', ':'), sort_keys=True)\n",
    "\n",
    "def sign(data):\n",
    "        j = json_encode(data)\n",
    "        h = hmac.new(tokenSecret, msg=j.encode(), digestmod=hashlib.sha256)\n",
    "        return h.hexdigest()\n",
    "    \n",
    "def getAllProdut(): \n",
    "    path = '/products'\n",
    "    try:\n",
    "      response = requests.get(host + path ,timeout=300)\n",
    "      return json.loads(response.text)\n",
    "    except:\n",
    "      return print(response.text)\n",
    "\n",
    "def getProdutByID(ID): \n",
    "    path = '/products/'+str(ID)\n",
    "    try:\n",
    "      response = requests.get(host + path,timeout=300)\n",
    "      return json.loads(response.text)\n",
    "    except:\n",
    "      return print(response.text)\n",
    "\n",
    "def getID(symbol):\n",
    "    data = getAllProdut()\n",
    "    #Get ID\n",
    "    for i in range(len(data)):\n",
    "        if( data[i]['currency_pair_code']==symbol):\n",
    "            ProuductID = data[i]['id']\n",
    "            print(\"%s  ID : %s, index : %d\"%(symbol,data[i]['id'],i))\n",
    "    return ProuductID"
   ]
  },
  {
   "cell_type": "code",
   "execution_count": 22,
   "metadata": {
    "colab": {},
    "colab_type": "code",
    "executionInfo": {
     "elapsed": 1101,
     "status": "ok",
     "timestamp": 1594088548099,
     "user": {
      "displayName": "Wasan Sinlapa",
      "photoUrl": "https://lh3.googleusercontent.com/a-/AOh14Gg-hKJqmhSwYd2QrhxmF4r2d-Za0Q6LykHlD4Nz=s64",
      "userId": "09763270650633251769"
     },
     "user_tz": -420
    },
    "id": "V3aVMvXa6wn3"
   },
   "outputs": [],
   "source": [
    "def main():  \n",
    "    #initialize\n",
    "    symbol = 'XRPJPY'\n",
    "    prePrice = 0\n",
    "    ProuductID = getID(symbol)\n",
    "    time.sleep(1)\n",
    "    #--------------------------------------------\n",
    "    \n",
    "    try:\n",
    "      data = getProdutByID(ProuductID)\n",
    "      pair = data['currency_pair_code']\n",
    "      bid = np.round(data['market_ask'], 3)\n",
    "      ask = np.round(data['market_bid'], 3)\n",
    "      ts = data['timestamp']\n",
    "      msg =pair +'  '+str(bid)+' | '+str(ask)\n",
    "      conditionPrice = (np.round(ask,1)*10) % 5\n",
    "      tm= datetime.fromtimestamp(int(ts.split('.')[0])) \n",
    "      #print(\"BID:%0.3f ASK:%0.3f %s\" %(tm,bid,ask),end=\"\\r\")\n",
    "      print(\"%s BID:%0.3f ASK:%0.3f\" %(tm,bid,ask))\n",
    "      if(prePrice == 0):\n",
    "          #lineSendMas('notification start')\n",
    "          prePrice=np.round(ask,1)\n",
    "\n",
    "      if(np.round(ask,1) != prePrice and conditionPrice == 0):\n",
    "          lineSendMas(msg)\n",
    "          prePrice=np.round(ask,1)\n",
    "    except:\n",
    "      print('bad request',end=\"\\r\")\n",
    "        \n",
    "        "
   ]
  },
  {
   "cell_type": "code",
   "execution_count": 23,
   "metadata": {
    "colab": {
     "base_uri": "https://localhost:8080/",
     "height": 316
    },
    "colab_type": "code",
    "executionInfo": {
     "elapsed": 14969,
     "status": "error",
     "timestamp": 1594088563678,
     "user": {
      "displayName": "Wasan Sinlapa",
      "photoUrl": "https://lh3.googleusercontent.com/a-/AOh14Gg-hKJqmhSwYd2QrhxmF4r2d-Za0Q6LykHlD4Nz=s64",
      "userId": "09763270650633251769"
     },
     "user_tz": -420
    },
    "id": "r5w1rBNo4J_3",
    "outputId": "bb5f9ff3-abfb-4ff4-c07a-116d55f8670f"
   },
   "outputs": [
    {
     "name": "stdout",
     "output_type": "stream",
     "text": [
      "XRPJPY  ID : 83, index : 125\n",
      "2020-07-07 02:22:25 BID:20.150 ASK:20.130\n",
      "2020-07-07 02:22:29 BID:20.150 ASK:20.130\n"
     ]
    },
    {
     "ename": "KeyboardInterrupt",
     "evalue": "ignored",
     "output_type": "error",
     "traceback": [
      "\u001b[0;31m---------------------------------------------------------------------------\u001b[0m",
      "\u001b[0;31mKeyboardInterrupt\u001b[0m                         Traceback (most recent call last)",
      "\u001b[0;32m<ipython-input-23-174f78df48e2>\u001b[0m in \u001b[0;36m<module>\u001b[0;34m()\u001b[0m\n\u001b[1;32m      1\u001b[0m \u001b[0;32mif\u001b[0m \u001b[0m__name__\u001b[0m \u001b[0;34m==\u001b[0m \u001b[0;34m'__main__'\u001b[0m\u001b[0;34m:\u001b[0m\u001b[0;34m\u001b[0m\u001b[0;34m\u001b[0m\u001b[0m\n\u001b[0;32m----> 2\u001b[0;31m   \u001b[0mmain\u001b[0m\u001b[0;34m(\u001b[0m\u001b[0;34m)\u001b[0m\u001b[0;34m\u001b[0m\u001b[0;34m\u001b[0m\u001b[0m\n\u001b[0m",
      "\u001b[0;32m<ipython-input-22-015c17423e2f>\u001b[0m in \u001b[0;36mmain\u001b[0;34m()\u001b[0m\n\u001b[1;32m     28\u001b[0m           \u001b[0mprint\u001b[0m\u001b[0;34m(\u001b[0m\u001b[0;34m'bad request'\u001b[0m\u001b[0;34m,\u001b[0m\u001b[0mend\u001b[0m\u001b[0;34m=\u001b[0m\u001b[0;34m\"\\r\"\u001b[0m\u001b[0;34m)\u001b[0m\u001b[0;34m\u001b[0m\u001b[0;34m\u001b[0m\u001b[0m\n\u001b[1;32m     29\u001b[0m \u001b[0;34m\u001b[0m\u001b[0m\n\u001b[0;32m---> 30\u001b[0;31m         \u001b[0mtime\u001b[0m\u001b[0;34m.\u001b[0m\u001b[0msleep\u001b[0m\u001b[0;34m(\u001b[0m\u001b[0;36m5\u001b[0m\u001b[0;34m)\u001b[0m\u001b[0;34m\u001b[0m\u001b[0;34m\u001b[0m\u001b[0m\n\u001b[0m",
      "\u001b[0;31mKeyboardInterrupt\u001b[0m: "
     ]
    }
   ],
   "source": [
    "while(True):\n",
    "    main()\n",
    "    time.sleep(5)"
   ]
  },
  {
   "cell_type": "code",
   "execution_count": null,
   "metadata": {
    "colab": {},
    "colab_type": "code",
    "id": "LAA02lwaEAKV"
   },
   "outputs": [],
   "source": []
  }
 ],
 "metadata": {
  "colab": {
   "collapsed_sections": [],
   "name": "LineNotify_Liquid.ipynb",
   "provenance": []
  },
  "kernelspec": {
   "display_name": "Python 3",
   "language": "python",
   "name": "python3"
  },
  "language_info": {
   "codemirror_mode": {
    "name": "ipython",
    "version": 3
   },
   "file_extension": ".py",
   "mimetype": "text/x-python",
   "name": "python",
   "nbconvert_exporter": "python",
   "pygments_lexer": "ipython3",
   "version": "3.7.7"
  }
 },
 "nbformat": 4,
 "nbformat_minor": 1
}
